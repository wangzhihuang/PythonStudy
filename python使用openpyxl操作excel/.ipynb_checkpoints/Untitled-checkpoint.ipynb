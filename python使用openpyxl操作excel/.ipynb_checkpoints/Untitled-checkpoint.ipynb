{
 "cells": [
  {
   "cell_type": "code",
   "execution_count": 1,
   "id": "7a6f40aa",
   "metadata": {},
   "outputs": [],
   "source": [
    "from openpyxl import load_workbook"
   ]
  },
  {
   "cell_type": "code",
   "execution_count": 2,
   "id": "60ae4b2d",
   "metadata": {},
   "outputs": [
    {
     "data": {
      "text/plain": [
       "['Sheet1', 'Sheet2', 'Sheet3', 'Sheet4']"
      ]
     },
     "execution_count": 2,
     "metadata": {},
     "output_type": "execute_result"
    }
   ],
   "source": [
    "# 打开Excel表格并获取表格名称\n",
    "workbook = load_workbook(filename = \"excel/test.xlsx\")\n",
    "workbook.sheetnames"
   ]
  },
  {
   "cell_type": "code",
   "execution_count": 4,
   "id": "c24d1746",
   "metadata": {},
   "outputs": [],
   "source": [
    "# 通过sheet名称获取表格\n",
    "sheet = workbook[\"Sheet1\"]"
   ]
  },
  {
   "cell_type": "code",
   "execution_count": 5,
   "id": "cc69aeb9",
   "metadata": {},
   "outputs": [
    {
     "name": "stdout",
     "output_type": "stream",
     "text": [
      "<Worksheet \"Sheet1\">\n"
     ]
    }
   ],
   "source": [
    "print(sheet)"
   ]
  },
  {
   "cell_type": "code",
   "execution_count": 6,
   "id": "e89e6908",
   "metadata": {},
   "outputs": [
    {
     "data": {
      "text/plain": [
       "'A1:G4'"
      ]
     },
     "execution_count": 6,
     "metadata": {},
     "output_type": "execute_result"
    }
   ],
   "source": [
    "# 获取表格的尺寸大小（几行几列数据）\n",
    "sheet.dimensions"
   ]
  },
  {
   "cell_type": "code",
   "execution_count": 2,
   "id": "b1a1d4f0",
   "metadata": {},
   "outputs": [
    {
     "name": "stdout",
     "output_type": "stream",
     "text": [
      "<Worksheet \"Sheet1\">\n",
      "Name 91\n"
     ]
    }
   ],
   "source": [
    "# 获取表格内某个格子的数据\n",
    "# 1.sheet[\"A\"]方式\n",
    "workbook = load_workbook(filename = \"excel/test.xlsx\")\n",
    "sheet= workbook.active\n",
    "print(sheet)\n",
    "cell1 = sheet[\"A1\"]\n",
    "cell2 = sheet[\"C3\"]\n",
    "print(cell1.value, cell2.value)"
   ]
  },
  {
   "cell_type": "code",
   "execution_count": 5,
   "id": "c642c8c3",
   "metadata": {},
   "outputs": [
    {
     "name": "stdout",
     "output_type": "stream",
     "text": [
      "<Worksheet \"Sheet1\">\n",
      "Name 91\n"
     ]
    }
   ],
   "source": [
    "# 获取表格内某个格子的数据\n",
    "# 2.sheet.cell(row=, column=)方式\n",
    "workbook = load_workbook(filename = \"excel/test.xlsx\")\n",
    "sheet = workbook.active\n",
    "print(sheet)\n",
    "cell1 = sheet.cell(row = 1, column = 1)\n",
    "cell2 = sheet.cell(row = 3, column = 3)\n",
    "print(cell1.value, cell2.value)"
   ]
  },
  {
   "cell_type": "code",
   "execution_count": 6,
   "id": "d82ed58c",
   "metadata": {},
   "outputs": [
    {
     "name": "stdout",
     "output_type": "stream",
     "text": [
      "<Worksheet \"Sheet1\">\n",
      "Name 1 1 A1\n",
      "91 3 3 C3\n"
     ]
    }
   ],
   "source": [
    "# 获取某个格子的行数、列数、坐标\n",
    "workbook = load_workbook(filename = \"excel/test.xlsx\")\n",
    "sheet = workbook.active\n",
    "print(sheet)\n",
    "cell1 = sheet[\"A1\"]\n",
    "cell2 = sheet[\"C3\"]\n",
    "print(cell1.value, cell1.row, cell1.column, cell1.coordinate)\n",
    "print(cell2.value, cell2.row, cell2.column, cell2.coordinate)"
   ]
  },
  {
   "cell_type": "code",
   "execution_count": 11,
   "id": "788dbb05",
   "metadata": {},
   "outputs": [
    {
     "name": "stdout",
     "output_type": "stream",
     "text": [
      "<Worksheet \"Sheet1\">\n",
      "((<Cell 'Sheet1'.A1>, <Cell 'Sheet1'.B1>, <Cell 'Sheet1'.C1>), (<Cell 'Sheet1'.A2>, <Cell 'Sheet1'.B2>, <Cell 'Sheet1'.C2>))\n",
      "Name\n",
      "Date\n",
      "Chinese\n",
      "herry\n",
      "2020-01-01 00:00:00\n",
      "80\n",
      "Name\n",
      "herry\n",
      "jerry\n",
      "jack\n"
     ]
    }
   ],
   "source": [
    "# 获取一系列格子\n",
    "# 1. sheet[]方法\n",
    "workbook = load_workbook(filename = \"excel/test.xlsx\")\n",
    "sheet = workbook.active\n",
    "print(sheet)\n",
    "# 获取A1：C2区域的值\n",
    "cell = sheet[\"A1:C2\"]\n",
    "print(cell)\n",
    "for i in cell:\n",
    "    for j in i:\n",
    "        print(j.value)\n",
    "cell2 = sheet[\"A\"]\n",
    "for i in cell2:\n",
    "    print(i.value)"
   ]
  },
  {
   "cell_type": "code",
   "execution_count": null,
   "id": "ca2342b7",
   "metadata": {},
   "outputs": [],
   "source": [
    "# 获取一系列格子\n",
    "# 2. .iter_rows()方式\n"
   ]
  }
 ],
 "metadata": {
  "kernelspec": {
   "display_name": "Python 3 (ipykernel)",
   "language": "python",
   "name": "python3"
  },
  "language_info": {
   "codemirror_mode": {
    "name": "ipython",
    "version": 3
   },
   "file_extension": ".py",
   "mimetype": "text/x-python",
   "name": "python",
   "nbconvert_exporter": "python",
   "pygments_lexer": "ipython3",
   "version": "3.9.6"
  }
 },
 "nbformat": 4,
 "nbformat_minor": 5
}
